{
 "cells": [
  {
   "cell_type": "markdown",
   "metadata": {},
   "source": [
    "# Analyzing the Stroop Effect\n",
    "\n",
    "In this small project a dataset about the Stroop effects will be statiscally analysed. No cleaning or assessing of the date is necessary. Only a statiscal analysis and the results gathered are presented. The test conditions can be found [here](https://faculty.washington.edu/chudler/java/ready.html). Also one can read more about this special phenomenon in the [Wikipedia](https://en.wikipedia.org/wiki/Stroop_effect) page.\n",
    "\n",
    "### Background Information\n",
    "In a Stroop task, participants are presented with a list of words, with each word displayed in a color of ink. The participant’s task is to say out loud the color of the ink in which the word is printed. The task has two conditions: a congruent words condition, and an incongruent words condition. In the congruent words condition, the words being displayed are color words whose names match the colors in which they are printed: for example RED, BLUE. In the incongruent words condition, the words displayed are color words whose names do not match the colors in which they are printed: for example PURPLE, ORANGE. In each case, we measure the time it takes to name the ink colors in equally-sized lists. Each participant will go through and record a time from each condition.\n",
    "\n",
    "## Pre-Analysis\n",
    " - What is the independent variable? What is the dependent variable?\n",
    " \n",
    "     - **Independant Variables:** The words/colors conditions, words matching colors or not matching (Congruent vs. Incongruent)\n",
    "     - **Dependant Variables:** Time taken to read the whole list of words correctly\n",
    "     \n",
    "     \n",
    " \n",
    " - What is an appropriate set of hypotheses for this task? What kind of statistical test do you expect to perform? Justify your choices.\n",
    " \n",
    "     - Will the incongruent situation have an effect on one's ability to read through the list. We can define this is terms of the null hypothesis:\n",
    "        H0: μC ≥ μI\n",
    "        HA: μC < μI\n",
    "\n",
    "   - **In words**: Will te incongruent situation affect the mean time of person reading the text or not. If we accept the null hypothesis, we ca say that not matching the words with color will have no effect on the time taken to read the while set of words. Rejecting this hypothesis means that the mean time taken to read the congruent situation is lower than the mean time taken to read the incongruent situation.\n",
    "\n",
    "    - Given our data, we have two tests, performed on the same subject, hence is a dependant situation. We want to check if  **μC < μI** so we just need a one tailed test. Additionally we only have a sample of an unknown population. The best statistic test to tackle this situation will be the  one-tailed, dependent samples t-test.\n",
    "\n",
    "   - The **T-Test** is appropriate since we have a small sample size ( less than 30) so our distribution will not resemble a Normal one, so it discards the option to do a Z-test. \n",
    "\n",
    "   - The choice for **One-Tailed** vs Two-Tailed test is due to intuition. It tell us that the incongruent situation will not improve reading times, can only increase them. So we can study only the negative side of the distribution, where μC-μI is less than zero.\n",
    "\n",
    "   - We will seek to prove that is **statiscally significant** the difference between the Incongruent mean time and the Congruent mean time, so we can infer that people will always take less time to read the congruent conditon.\n",
    "   \n",
    "   \n",
    "# Visualizations"
   ]
  },
  {
   "cell_type": "markdown",
   "metadata": {},
   "source": [
    "## Bar Plot"
   ]
  },
  {
   "cell_type": "code",
   "execution_count": 2,
   "metadata": {},
   "outputs": [
    {
     "data": {
      "image/png": "[encoded data removed]",
      "text/plain": [
       "<matplotlib.figure.Figure at 0x7f8c6e77a940>"
      ]
     },
     "metadata": {},
     "output_type": "display_data"
    }
   ],
   "source": [
    "import numpy as np\n",
    "import pandas as pd\n",
    "import math\n",
    "\n",
    "% matplotlib inline\n",
    "\n",
    "df = pd.read_csv('stroopdata.csv')\n",
    "df_I = df['Incongruent']\n",
    "df_C = df['Congruent']\n",
    "\n",
    "df.plot(kind='bar');\n"
   ]
  },
  {
   "cell_type": "markdown",
   "metadata": {},
   "source": [
    "First we have just a plot with all of ours test subjects and their times in the respectives two tests. In blue is the congruent condition, orange is the incongruent condition. We can immediatelly see that the Orange vertical bars are always above the blue ones, hence it takes more time to read."
   ]
  },
  {
   "cell_type": "markdown",
   "metadata": {},
   "source": [
    "## Box Plot"
   ]
  },
  {
   "cell_type": "code",
   "execution_count": 3,
   "metadata": {},
   "outputs": [
    {
     "data": {
      "image/png": "[encoded data removed]",
      "text/plain": [
       "<matplotlib.figure.Figure at 0x7f8c69f10d30>"
      ]
     },
     "metadata": {},
     "output_type": "display_data"
    }
   ],
   "source": [
    "df.plot.box();"
   ]
  },
  {
   "cell_type": "markdown",
   "metadata": {},
   "source": [
    "It is shown above the box plot of our data. We can cleary see the difference between both conditions. Green line being the mean, we see one way aove the other one. Also we can verify that in the incongruent situation, there are some outlier scores, proving the difficult it can be to read that condition."
   ]
  },
  {
   "cell_type": "markdown",
   "metadata": {},
   "source": [
    "## Dataset Description"
   ]
  },
  {
   "cell_type": "code",
   "execution_count": 7,
   "metadata": {},
   "outputs": [
    {
     "data": {
      "text/html": [
       "<div>\n",
       "<style>\n",
       "    .dataframe thead tr:only-child th {\n",
       "        text-align: right;\n",
       "    }\n",
       "\n",
       "    .dataframe thead th {\n",
       "        text-align: left;\n",
       "    }\n",
       "\n",
       "    .dataframe tbody tr th {\n",
       "        vertical-align: top;\n",
       "    }\n",
       "</style>\n",
       "<table border=\"1\" class=\"dataframe\">\n",
       "  <thead>\n",
       "    <tr style=\"text-align: right;\">\n",
       "      <th></th>\n",
       "      <th>Congruent</th>\n",
       "      <th>Incongruent</th>\n",
       "    </tr>\n",
       "  </thead>\n",
       "  <tbody>\n",
       "    <tr>\n",
       "      <th>count</th>\n",
       "      <td>24.000000</td>\n",
       "      <td>24.000000</td>\n",
       "    </tr>\n",
       "    <tr>\n",
       "      <th>mean</th>\n",
       "      <td>14.051125</td>\n",
       "      <td>22.015917</td>\n",
       "    </tr>\n",
       "    <tr>\n",
       "      <th>std</th>\n",
       "      <td>3.559358</td>\n",
       "      <td>4.797057</td>\n",
       "    </tr>\n",
       "    <tr>\n",
       "      <th>min</th>\n",
       "      <td>8.630000</td>\n",
       "      <td>15.687000</td>\n",
       "    </tr>\n",
       "    <tr>\n",
       "      <th>25%</th>\n",
       "      <td>11.895250</td>\n",
       "      <td>18.716750</td>\n",
       "    </tr>\n",
       "    <tr>\n",
       "      <th>50%</th>\n",
       "      <td>14.356500</td>\n",
       "      <td>21.017500</td>\n",
       "    </tr>\n",
       "    <tr>\n",
       "      <th>75%</th>\n",
       "      <td>16.200750</td>\n",
       "      <td>24.051500</td>\n",
       "    </tr>\n",
       "    <tr>\n",
       "      <th>max</th>\n",
       "      <td>22.328000</td>\n",
       "      <td>35.255000</td>\n",
       "    </tr>\n",
       "  </tbody>\n",
       "</table>\n",
       "</div>"
      ],
      "text/plain": [
       "       Congruent  Incongruent\n",
       "count  24.000000    24.000000\n",
       "mean   14.051125    22.015917\n",
       "std     3.559358     4.797057\n",
       "min     8.630000    15.687000\n",
       "25%    11.895250    18.716750\n",
       "50%    14.356500    21.017500\n",
       "75%    16.200750    24.051500\n",
       "max    22.328000    35.255000"
      ]
     },
     "execution_count": 7,
     "metadata": {},
     "output_type": "execute_result"
    }
   ],
   "source": [
    "df.describe()"
   ]
  },
  {
   "cell_type": "markdown",
   "metadata": {},
   "source": [
    "The table displays some statistical information about our data. We can immediately refer to the mean values, where we have that for the Congruent Condition is 14 seconds, and the Incongruent Condition we have 22. There is a 8 seconds extra mean time taken between both conditions."
   ]
  },
  {
   "cell_type": "markdown",
   "metadata": {},
   "source": [
    "## Histogram"
   ]
  },
  {
   "cell_type": "code",
   "execution_count": 8,
   "metadata": {},
   "outputs": [
    {
     "data": {
      "image/png": "[encoded data removed]",
      "text/plain": [
       "<matplotlib.figure.Figure at 0x7f8c6212e550>"
      ]
     },
     "metadata": {},
     "output_type": "display_data"
    }
   ],
   "source": [
    "df.hist();"
   ]
  },
  {
   "cell_type": "markdown",
   "metadata": {},
   "source": [
    "Looking at the histograms of our data, we can cleary note how this is ot normal distributed, due to the relatively small sample size. We can see that for the Congruent Condition most tests fall around 14seconds. The Incongruent conditions shows around 22 seconds. As expected from the mean we have obtained before."
   ]
  },
  {
   "cell_type": "markdown",
   "metadata": {},
   "source": [
    "# Statiscal Analysis"
   ]
  },
  {
   "cell_type": "code",
   "execution_count": 10,
   "metadata": {},
   "outputs": [
    {
     "name": "stdout",
     "output_type": "stream",
     "text": [
      "-2.49986673949\n"
     ]
    },
    {
     "data": {
      "text/plain": [
       "Ttest_relResult(statistic=-8.020706944109957, pvalue=4.1030005857111781e-08)"
      ]
     },
     "execution_count": 10,
     "metadata": {},
     "output_type": "execute_result"
    }
   ],
   "source": [
    "# Perform the statistical test here\n",
    "import scipy.stats as stats\n",
    "\n",
    "alpha = 0.01;\n",
    "deg_free = 23;\n",
    "\n",
    "T_critical = stats.t.ppf(alpha, deg_free)\n",
    "\n",
    "print(T_critical)\n",
    "\n",
    "stats.ttest_rel(df['Congruent'],df['Incongruent'])\n",
    "\n",
    "\n",
    "\n",
    "\n"
   ]
  },
  {
   "cell_type": "markdown",
   "metadata": {},
   "source": [
    "At a 99% confidence level and 23 degrees of freedom we can obtain a critical value of -2.5, for the one-tailed test in the negative direction. The T-Statistic we get from the test has a value of -8.02, way bellow our -2.5, which puts our T-Statistic value way deep into the critical region, thus we can reject the Null Hypothesis. The P-Value is also much smaller than the typical used threshold of 0.0001. We can say that the there is a statistically significant difference between the time taken to read the congruent and incongruent conditions. We can infer that the congruent mean time will always be less than then incongruent."
   ]
  },
  {
   "cell_type": "code",
   "execution_count": 11,
   "metadata": {},
   "outputs": [
    {
     "name": "stdout",
     "output_type": "stream",
     "text": [
      "[-10.01902790936491, -5.9105554239684217]\n"
     ]
    }
   ],
   "source": [
    "df_mean = df['Congruent'] - df['Incongruent']\n",
    "\n",
    "#n, min_max, mean, var, skew, kurt = df.describe();\n",
    "count, mean, std, mean_min, quart_1st, quart_half, quart_75, man_max = df_mean.describe();\n",
    "\n",
    "alpha = 0.05;\n",
    "deg_free = 23;\n",
    "\n",
    "T_critical = stats.t.ppf(alpha/2, deg_free)\n",
    "\n",
    "\n",
    "scale=std/math.sqrt(count);\n",
    "\n",
    "\n",
    "CI_1 =  [mean + T_critical * scale , mean - T_critical * scale]\n",
    "\n",
    "print(CI_1)"
   ]
  },
  {
   "cell_type": "markdown",
   "metadata": {},
   "source": [
    "# Conclusions"
   ]
  },
  {
   "cell_type": "markdown",
   "metadata": {},
   "source": [
    "Above we have constructed the 95% confidence interval. We have used the difference of means to construct this interval. We can then infer that our difference between the time taken to read the words in the congruent condition will take between 5.91 and 10.02 seconds less when compared to the incongruent condition. \n",
    "\n",
    "I believe that the reason why we observe such a big discrepancy between the two tests is due to the brain focusing on reading the word, rather than recognizing the color. Disassociating those two brain tasks might pose a complicated situation for most people, specially if they are not used to perform such tests. The color recognition will not come naturally, and the brain will fight itself due to the conflict of the read word with the color of the word. That conflict takes sometime to be resolved and be verbalized. That time adds up throughout all the words, which will result in the total time being increased.\n",
    "\n",
    "We can see similar effects on tests such as has a spatial stroot tests, where arrows are placed bellow or above a central focus point and the test subject is to recognize what direction the arrow points to. Subjects will take more time resolving the incongruent codition, arrow point down above the central point, when compared to the congruent condition. \n",
    "\n",
    "We can also think about the numerical stroop test. Where numbers are printed with different sizes. The congruent condition would be a bigger number having a larger size than a smaller number. Subjects will take longer to recognize which number is bigger when they are faced with a incongruent condition. "
   ]
  }
 ],
 "metadata": {
  "kernelspec": {
   "display_name": "Python 3",
   "language": "python",
   "name": "python3"
  },
  "language_info": {
   "codemirror_mode": {
    "name": "ipython",
    "version": 3
   },
   "file_extension": ".py",
   "mimetype": "text/x-python",
   "name": "python",
   "nbconvert_exporter": "python",
   "pygments_lexer": "ipython3",
   "version": "3.6.3"
  }
 },
 "nbformat": 4,
 "nbformat_minor": 2
}
